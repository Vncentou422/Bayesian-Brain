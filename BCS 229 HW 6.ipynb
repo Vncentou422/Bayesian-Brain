{
 "cells": [
  {
   "cell_type": "markdown",
   "metadata": {},
   "source": [
    "**1a**"
   ]
  },
  {
   "cell_type": "code",
   "execution_count": 67,
   "metadata": {},
   "outputs": [],
   "source": [
    "import numpy as np\n",
    "import random \n",
    "import pandas as pd\n",
    "import matplotlib.pyplot as plt\n",
    "def generate_timepoint_array(percentage):\n",
    "    timepoints = []\n",
    "    for i in range(0,1000):\n",
    "        chance = (random.randint(1,10000))\n",
    "        if chance <= (percentage * 10000):\n",
    "            timepoints.append(1)\n",
    "        else:\n",
    "            timepoints.append(0)\n",
    "    count = 0\n",
    "    for j in range(0,len(timepoints)):\n",
    "        if timepoints[j] == 1:\n",
    "            count+= 1\n",
    "        \n",
    "    return count;\n",
    "\n",
    "\n",
    "        "
   ]
  },
  {
   "cell_type": "code",
   "execution_count": 68,
   "metadata": {},
   "outputs": [],
   "source": [
    "#run trial 10,000 times\n",
    "timer = 1\n",
    "spike_count_arr = []\n",
    "while timer <= 10000:\n",
    "    spike_count_arr.append(generate_timepoint_array(0.0032))\n",
    "    timer += 1\n",
    "    \n",
    "    "
   ]
  },
  {
   "cell_type": "code",
   "execution_count": 69,
   "metadata": {},
   "outputs": [
    {
     "data": {
      "image/png": "[encoded data removed]",
      "text/plain": [
       "<matplotlib.figure.Figure at 0xab51dd8>"
      ]
     },
     "metadata": {},
     "output_type": "display_data"
    }
   ],
   "source": [
    "#plot histogram\n",
    "plt.hist(spike_count_arr, bins=range(0, 22))\n",
    "plt.ylabel(\"Count\")\n",
    "plt.xlabel(\"Spike Count\")\n",
    "plt.show()"
   ]
  },
  {
   "cell_type": "code",
   "execution_count": 70,
   "metadata": {},
   "outputs": [
    {
     "data": {
      "text/plain": [
       "0.99572073209214274"
      ]
     },
     "execution_count": 70,
     "metadata": {},
     "output_type": "execute_result"
    }
   ],
   "source": [
    "#fano factor = variance/mean\n",
    "var = np.var(spike_count_arr)\n",
    "mean = np.mean(spike_count_arr)\n",
    "fanofactor = var/mean\n",
    "fanofactor"
   ]
  },
  {
   "cell_type": "markdown",
   "metadata": {},
   "source": [
    "**1b**\n"
   ]
  },
  {
   "cell_type": "code",
   "execution_count": 72,
   "metadata": {},
   "outputs": [
    {
     "data": {
      "image/png": "[encoded data removed]",
      "text/plain": [
       "<matplotlib.figure.Figure at 0xad9e0f0>"
      ]
     },
     "metadata": {},
     "output_type": "display_data"
    }
   ],
   "source": [
    "timer = 1\n",
    "spike_count_arr2 = []\n",
    "while timer <= 10000:\n",
    "    spike_count_arr2.append(generate_timepoint_array(0.0095))\n",
    "    timer += 1\n",
    "plt.hist(spike_count_arr2, bins=range(0, 22))\n",
    "plt.ylabel(\"Count\")\n",
    "plt.xlabel(\"Spike Count\")\n",
    "plt.show()"
   ]
  },
  {
   "cell_type": "code",
   "execution_count": 73,
   "metadata": {},
   "outputs": [
    {
     "data": {
      "text/plain": [
       "0.97667820424948593"
      ]
     },
     "execution_count": 73,
     "metadata": {},
     "output_type": "execute_result"
    }
   ],
   "source": [
    "#fano factor = variance/mean\n",
    "var = np.var(spike_count_arr2)\n",
    "mean = np.mean(spike_count_arr2)\n",
    "fanofactor = var/mean\n",
    "fanofactor"
   ]
  },
  {
   "cell_type": "code",
   "execution_count": null,
   "metadata": {
    "collapsed": true
   },
   "outputs": [],
   "source": []
  }
 ],
 "metadata": {
  "kernelspec": {
   "display_name": "Python 3",
   "language": "python",
   "name": "python3"
  },
  "language_info": {
   "codemirror_mode": {
    "name": "ipython",
    "version": 3
   },
   "file_extension": ".py",
   "mimetype": "text/x-python",
   "name": "python",
   "nbconvert_exporter": "python",
   "pygments_lexer": "ipython3",
   "version": "3.6.1"
  }
 },
 "nbformat": 4,
 "nbformat_minor": 2
}
