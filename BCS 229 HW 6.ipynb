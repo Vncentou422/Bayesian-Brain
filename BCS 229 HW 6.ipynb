{
 "cells": [
  {
   "cell_type": "markdown",
   "metadata": {},
   "source": [
    "**1a**"
   ]
  },
  {
   "cell_type": "code",
   "execution_count": 5,
   "metadata": {},
   "outputs": [],
   "source": [
    "import numpy as np\n",
    "import random \n",
    "import pandas as pd\n",
    "import matplotlib.pyplot as plt\n",
    "def generate_timepoint_array(percentage):\n",
    "    timepoints = []\n",
    "    for i in range(0,1000):\n",
    "        chance = (random.randint(1,10000))\n",
    "        if chance <= (percentage * 10000):\n",
    "            timepoints.append(1)\n",
    "        else:\n",
    "            timepoints.append(0)\n",
    "    count = 0\n",
    "    for j in range(0,len(timepoints)):\n",
    "        if timepoints[j] == 1:\n",
    "            count+= 1\n",
    "        \n",
    "    return count;\n",
    "\n",
    "\n",
    "        "
   ]
  },
  {
   "cell_type": "code",
   "execution_count": 6,
   "metadata": {},
   "outputs": [],
   "source": [
    "#run trial 10,000 times\n",
    "timer = 1\n",
    "spike_count_arr = []\n",
    "while timer <= 10000:\n",
    "    spike_count_arr.append(generate_timepoint_array(0.0032))\n",
    "    timer += 1\n",
    "    \n",
    "    "
   ]
  },
  {
   "cell_type": "code",
   "execution_count": 7,
   "metadata": {},
   "outputs": [
    {
     "data": {
      "image/png": "[encoded data removed]",
      "text/plain": [
       "<matplotlib.figure.Figure at 0x6780ff0>"
      ]
     },
     "metadata": {},
     "output_type": "display_data"
    }
   ],
   "source": [
    "#plot histogram\n",
    "plt.hist(spike_count_arr, bins=range(0, 22))\n",
    "plt.ylabel(\"Count\")\n",
    "plt.xlabel(\"Spike Count\")\n",
    "plt.show()"
   ]
  },
  {
   "cell_type": "code",
   "execution_count": 8,
   "metadata": {},
   "outputs": [
    {
     "data": {
      "text/plain": [
       "1.0076377355542361"
      ]
     },
     "execution_count": 8,
     "metadata": {},
     "output_type": "execute_result"
    }
   ],
   "source": [
    "#fano factor = variance/mean\n",
    "var = np.var(spike_count_arr)\n",
    "mean = np.mean(spike_count_arr)\n",
    "fanofactor = var/mean\n",
    "fanofactor"
   ]
  },
  {
   "cell_type": "markdown",
   "metadata": {},
   "source": [
    "**1b**\n"
   ]
  },
  {
   "cell_type": "code",
   "execution_count": 9,
   "metadata": {},
   "outputs": [
    {
     "data": {
      "image/png": "[encoded data removed]",
      "text/plain": [
       "<matplotlib.figure.Figure at 0x67e89b0>"
      ]
     },
     "metadata": {},
     "output_type": "display_data"
    }
   ],
   "source": [
    "timer = 1\n",
    "spike_count_arr2 = []\n",
    "while timer <= 10000:\n",
    "    spike_count_arr2.append(generate_timepoint_array(0.0095))\n",
    "    timer += 1\n",
    "plt.hist(spike_count_arr2, bins=range(0, 22))\n",
    "plt.ylabel(\"Count\")\n",
    "plt.xlabel(\"Spike Count\")\n",
    "plt.show()"
   ]
  },
  {
   "cell_type": "code",
   "execution_count": 10,
   "metadata": {},
   "outputs": [
    {
     "data": {
      "text/plain": [
       "0.98376661169431145"
      ]
     },
     "execution_count": 10,
     "metadata": {},
     "output_type": "execute_result"
    }
   ],
   "source": [
    "#fano factor = variance/mean\n",
    "var = np.var(spike_count_arr2)\n",
    "mean = np.mean(spike_count_arr2)\n",
    "fanofactor = var/mean\n",
    "fanofactor"
   ]
  },
  {
   "cell_type": "markdown",
   "metadata": {
    "collapsed": true
   },
   "source": [
    "**2**"
   ]
  },
  {
   "cell_type": "code",
   "execution_count": 23,
   "metadata": {},
   "outputs": [],
   "source": [
    "import math\n",
    "numNeuron = 1000\n",
    "preferred = np.linspace(-50,50,numNeuron)\n",
    "numStimulus = 20\n",
    "stimulus = np.linspace(-10,10,numStimulus)\n",
    "\n",
    "g = 1\n",
    "b = 0\n",
    "sigma = 20\n",
    "\n",
    "temp1 = 1.0/(math.sqrt(2.0 * math.pi) * sigma)\n",
    "temp2 = -1.0/(2.0 * sigma**2)\n",
    "temp3 = np.zeros((numNeuron,numStimulus))"
   ]
  },
  {
   "cell_type": "code",
   "execution_count": 32,
   "metadata": {},
   "outputs": [],
   "source": [
    "for n in range(1,numNeuron):\n",
    "    for s in range(1,numStimulus):\n",
    "        temp3[n][s] = (stimulus[s] - preferred[n])**2\n",
    "        \n",
    "        "
   ]
  },
  {
   "cell_type": "code",
   "execution_count": 33,
   "metadata": {},
   "outputs": [],
   "source": [
    "meanNeuronResponse = np.zeros((numNeuron,numStimulus))\n",
    "for n in range(1,numNeuron):\n",
    "    for s in range(1,numStimulus):\n",
    "        meanNeuronResponse[n][s] = (g * temp1 * math.exp(temp2 * temp3[n][s])) + b"
   ]
  },
  {
   "cell_type": "code",
   "execution_count": 51,
   "metadata": {},
   "outputs": [],
   "source": [
    "arr = []\n",
    "for j in range(0,numNeuron):\n",
    "    arr.append(np.max(meanNeuronResponse[j]))"
   ]
  },
  {
   "cell_type": "code",
   "execution_count": 53,
   "metadata": {},
   "outputs": [
    {
     "data": {
      "image/png": "[encoded data removed]",
      "text/plain": [
       "<matplotlib.figure.Figure at 0x80e73d0>"
      ]
     },
     "metadata": {},
     "output_type": "display_data"
    }
   ],
   "source": [
    "plt.scatter(preferred,arr)\n",
    "plt.show()"
   ]
  },
  {
   "cell_type": "code",
   "execution_count": null,
   "metadata": {},
   "outputs": [],
   "source": []
  }
 ],
 "metadata": {
  "kernelspec": {
   "display_name": "Python 3",
   "language": "python",
   "name": "python3"
  }
 },
 "nbformat": 4,
 "nbformat_minor": 2
}
